{
 "cells": [
  {
   "cell_type": "code",
   "execution_count": 29,
   "metadata": {},
   "outputs": [],
   "source": [
    "import cv2\n",
    "from PIL import Image, ImageDraw\n",
    "import numpy as np\n",
    "\n",
    "import base64\n",
    "\n",
    "from flask import Flask, request\n",
    "from flask_restful import Api, Resource, reqparse\n",
    "\n",
    "import warnings\n",
    "warnings.filterwarnings(\"ignore\")\n",
    "\n",
    "import logging\n",
    "log = logging.getLogger('werkzeug')\n",
    "log.setLevel(logging.ERROR)"
   ]
  },
  {
   "cell_type": "markdown",
   "metadata": {},
   "source": [
    "# Стандартный opencv и каскады Хаара"
   ]
  },
  {
   "cell_type": "code",
   "execution_count": 5,
   "metadata": {
    "scrolled": true
   },
   "outputs": [],
   "source": [
    "face_cascade = cv2.CascadeClassifier('c:\\python\\haarcascade_frontalface_default.xml')"
   ]
  },
  {
   "cell_type": "code",
   "execution_count": 7,
   "metadata": {},
   "outputs": [],
   "source": [
    "def start_cam():\n",
    "    cam=cv2.VideoCapture(0)\n",
    "    return cam\n",
    "def stop_cam(cam):\n",
    "    cam.release()\n"
   ]
  },
  {
   "cell_type": "code",
   "execution_count": 23,
   "metadata": {},
   "outputs": [],
   "source": [
    "def get_face(cam):\n",
    "    _,img1 =cam.read()\n",
    "    img= cv2.flip(img1, 1)\n",
    "    gray = cv2.cvtColor(img, cv2.COLOR_BGR2GRAY)\n",
    "    faces = face_cascade.detectMultiScale(gray, 1.3, 5)\n",
    "    if len(faces)==0:\n",
    "        ret_image=np.uint8(np.zeros((25,25,3)))\n",
    "        l,x,y,w,h=(0,-1,-1,25,25)\n",
    "    else:\n",
    "        wmax=-1\n",
    "        l=len(faces)\n",
    "        x,y,w,h=(-1,-1,-1,-1)\n",
    "        for (xt,yt,wt,ht) in faces:\n",
    "            if wmax<wt:\n",
    "                wmax=wt\n",
    "                x,y,w,h=(xt,yt,wt,ht)\n",
    "        b,g,r=cv2.split(img[y:y+h, x:x+w])\n",
    "        ret_image = cv2.merge((r,g,b))\n",
    "        \n",
    "    return(Image.fromarray(ret_image),l,x,y,w,h)\n"
   ]
  },
  {
   "cell_type": "code",
   "execution_count": 33,
   "metadata": {},
   "outputs": [
    {
     "name": "stdout",
     "output_type": "stream",
     "text": [
      " * Serving Flask app \"__main__\" (lazy loading)\n",
      " * Environment: production\n",
      "\u001b[31m   WARNING: This is a development server. Do not use it in a production deployment.\u001b[0m\n",
      "\u001b[2m   Use a production WSGI server instead.\u001b[0m\n",
      " * Debug mode: off\n",
      "Server stopped\n"
     ]
    }
   ],
   "source": [
    "application = Flask(__name__)\n",
    "api = Api(application)\n",
    "cam=start_cam()\n",
    "\n",
    "\n",
    "\n",
    "\n",
    "class GetFace(Resource):\n",
    "    def get(self):\n",
    "        pic,l,x,y,w,h=get_face(cam)\n",
    "        img=base64.b64encode(pic.convert('RGB').tobytes()).decode()\n",
    "        return {'Image':img,'Length':int(l),'X':int(x),'Y':int(y),'Width':int(w),'Height':int(h)}\n",
    "api.add_resource(GetFace, '/GetFace')\n",
    "\n",
    "\n",
    "\n",
    "class Shutdown(Resource):\n",
    "    def get(self):\n",
    "        func = request.environ.get('werkzeug.server.shutdown')\n",
    "        if func is None:\n",
    "            print ('Not running with the Werkzeug Server')\n",
    "        else:\n",
    "            func()\n",
    "            print ('Server stopped')\n",
    "            stop_cam(cam)\n",
    "api.add_resource(Shutdown, '/Shutdown')\n",
    "\n",
    "\n",
    "\n",
    "if __name__ == '__main__':\n",
    "    application.run(host='0.0.0.0',port=8150)"
   ]
  },
  {
   "cell_type": "code",
   "execution_count": null,
   "metadata": {},
   "outputs": [],
   "source": []
  }
 ],
 "metadata": {
  "kernelspec": {
   "display_name": "Python 3 (ipykernel)",
   "language": "python",
   "name": "python3"
  },
  "language_info": {
   "codemirror_mode": {
    "name": "ipython",
    "version": 3
   },
   "file_extension": ".py",
   "mimetype": "text/x-python",
   "name": "python",
   "nbconvert_exporter": "python",
   "pygments_lexer": "ipython3",
   "version": "3.9.12"
  }
 },
 "nbformat": 4,
 "nbformat_minor": 2
}
